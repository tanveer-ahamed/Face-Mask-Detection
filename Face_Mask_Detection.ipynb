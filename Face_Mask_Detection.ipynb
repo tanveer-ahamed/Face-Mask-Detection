{
 "cells": [
  {
   "cell_type": "code",
   "execution_count": 1,
   "id": "c1d65bcd",
   "metadata": {},
   "outputs": [],
   "source": [
    "import cv2\n",
    "import os"
   ]
  },
  {
   "cell_type": "code",
   "execution_count": 2,
   "id": "5059bbad",
   "metadata": {},
   "outputs": [
    {
     "name": "stdout",
     "output_type": "stream",
     "text": [
      "{'without_mask': 0, 'with_mask': 1}\n",
      "['without_mask', 'with_mask']\n",
      "[0, 1]\n"
     ]
    }
   ],
   "source": [
    "data_path = 'dataset'\n",
    "categories = os.listdir(data_path)\n",
    "labels = [i for i in range(len(categories))]\n",
    "\n",
    "label_dict = dict(zip(categories,labels))\n",
    "\n",
    "print(label_dict)\n",
    "print(categories)\n",
    "print(labels)"
   ]
  },
  {
   "cell_type": "markdown",
   "id": "ef97448f",
   "metadata": {},
   "source": [
    "# Data Pre-Processing"
   ]
  },
  {
   "cell_type": "code",
   "execution_count": 3,
   "id": "2d9735d4",
   "metadata": {},
   "outputs": [],
   "source": [
    "img_size = 100\n",
    "data = []\n",
    "target = []\n",
    "\n",
    "\n",
    "for category in categories:\n",
    "    folder_path = os.path.join(data_path,category)\n",
    "    img_names = os.listdir(folder_path)\n",
    "    \n",
    "    for img_name in img_names:\n",
    "        img_path = os.path.join(folder_path,img_name)\n",
    "        img = cv2.imread(img_path)\n",
    "        \n",
    "        try:\n",
    "            gray = cv2.cvtColor(img,cv2.COLOR_BGR2GRAY)\n",
    "            # converting the image into grayscale\n",
    "            resized = cv2.resize(gray,(img_size,img_size))\n",
    "            #resizing the grayscale into 100x100, since we need a fixed common size for all the images in the dataset\n",
    "            data.append(resized)\n",
    "            target.append(label_dict[category])\n",
    "            #appending the image and the label(categorized) into the list (dataset)\n",
    "        except Exception as e:\n",
    "            print('Exception:',e)\n",
    "            #if any exception is raised, the exception will be printed here."
   ]
  },
  {
   "cell_type": "code",
   "execution_count": 4,
   "id": "4d74b59f",
   "metadata": {},
   "outputs": [],
   "source": [
    "import numpy as np\n",
    "\n",
    "data=np.array(data)/255.0\n",
    "data=np.reshape(data,(data.shape[0],img_size,img_size,1))\n",
    "target=np.array(target)\n",
    "\n",
    "from keras.utils import np_utils\n",
    "\n",
    "new_target=np_utils.to_categorical(target)"
   ]
  },
  {
   "cell_type": "code",
   "execution_count": 5,
   "id": "22019a0e",
   "metadata": {},
   "outputs": [],
   "source": [
    "np.save('data',data)\n",
    "np.save('target',new_target)"
   ]
  },
  {
   "cell_type": "markdown",
   "id": "7b6969a7",
   "metadata": {},
   "source": [
    "# Training the CNN"
   ]
  },
  {
   "cell_type": "code",
   "execution_count": 6,
   "id": "b1a0be9b",
   "metadata": {},
   "outputs": [],
   "source": [
    "#loading of the saved numpy arrays in the previous code\n",
    "data = np.load('data.npy')\n",
    "target = np.load('target.npy')"
   ]
  },
  {
   "cell_type": "code",
   "execution_count": 7,
   "id": "ab067618",
   "metadata": {},
   "outputs": [],
   "source": [
    "from keras.models import Sequential\n",
    "from keras.layers import Dense,Activation,Flatten,Dropout\n",
    "from keras.layers import Conv2D,MaxPooling2D\n",
    "from keras.callbacks import ModelCheckpoint\n",
    "\n",
    "model = Sequential()\n",
    "\n",
    "model.add(Conv2D(200,(3,3),input_shape=data.shape[1:]))\n",
    "model.add(Activation('relu'))\n",
    "model.add(MaxPooling2D(pool_size=(2,2)))\n",
    "# The first CNN Layer followed by Relu and MaxPooling layers\n",
    "\n",
    "model.add(Conv2D(100,(3,3)))\n",
    "model.add(Activation('relu'))\n",
    "model.add(MaxPooling2D(pool_size=(2,2)))\n",
    "# The second CNN Layer followed by Relu and MaxPooling layers\n",
    "\n",
    "# Flatten layer used to stack the output convolutions from the second convolution layer\n",
    "model.add(Flatten())\n",
    "model.add(Dropout(0.5))\n",
    "\n",
    "model.add(Dense(50, activation='relu'))\n",
    "model.add(Dense(2, activation='softmax'))\n",
    "# The final layer with two outputs for two categories\n",
    "\n",
    "model.compile(loss='binary_crossentropy',optimizer='adam',metrics=['accuracy'])"
   ]
  },
  {
   "cell_type": "code",
   "execution_count": 8,
   "id": "df4d27d4",
   "metadata": {},
   "outputs": [],
   "source": [
    "from sklearn.model_selection import train_test_split\n",
    "\n",
    "train_data,test_data,train_target,test_target=train_test_split(data,target,test_size=0.1)"
   ]
  },
  {
   "cell_type": "code",
   "execution_count": 9,
   "id": "e60aef8a",
   "metadata": {},
   "outputs": [
    {
     "name": "stdout",
     "output_type": "stream",
     "text": [
      "Epoch 1/10\n",
      "72/72 [==============================] - ETA: 0s - loss: 0.5788 - accuracy: 0.6913INFO:tensorflow:Assets written to: model-001.model\\assets\n",
      "72/72 [==============================] - 221s 3s/step - loss: 0.5788 - accuracy: 0.6913 - val_loss: 0.5118 - val_accuracy: 0.7465\n",
      "Epoch 2/10\n",
      "72/72 [==============================] - ETA: 0s - loss: 0.3883 - accuracy: 0.8378INFO:tensorflow:Assets written to: model-002.model\\assets\n",
      "72/72 [==============================] - 187s 3s/step - loss: 0.3883 - accuracy: 0.8378 - val_loss: 0.3505 - val_accuracy: 0.8304\n",
      "Epoch 3/10\n",
      "72/72 [==============================] - ETA: 0s - loss: 0.2621 - accuracy: 0.8881INFO:tensorflow:Assets written to: model-003.model\\assets\n",
      "72/72 [==============================] - 188s 3s/step - loss: 0.2621 - accuracy: 0.8881 - val_loss: 0.2922 - val_accuracy: 0.8619\n",
      "Epoch 4/10\n",
      "72/72 [==============================] - ETA: 0s - loss: 0.1996 - accuracy: 0.9239INFO:tensorflow:Assets written to: model-004.model\\assets\n",
      "72/72 [==============================] - 184s 3s/step - loss: 0.1996 - accuracy: 0.9239 - val_loss: 0.2447 - val_accuracy: 0.8881\n",
      "Epoch 5/10\n",
      "72/72 [==============================] - 188s 3s/step - loss: 0.1549 - accuracy: 0.9432 - val_loss: 0.3371 - val_accuracy: 0.8759\n",
      "Epoch 6/10\n",
      "72/72 [==============================] - 190s 3s/step - loss: 0.1269 - accuracy: 0.9528 - val_loss: 0.2525 - val_accuracy: 0.8916\n",
      "Epoch 7/10\n",
      "72/72 [==============================] - ETA: 0s - loss: 0.1152 - accuracy: 0.9537INFO:tensorflow:Assets written to: model-007.model\\assets\n",
      "72/72 [==============================] - 191s 3s/step - loss: 0.1152 - accuracy: 0.9537 - val_loss: 0.2202 - val_accuracy: 0.9196\n",
      "Epoch 8/10\n",
      "72/72 [==============================] - 187s 3s/step - loss: 0.0875 - accuracy: 0.9672 - val_loss: 0.2877 - val_accuracy: 0.8829\n",
      "Epoch 9/10\n",
      "72/72 [==============================] - ETA: 0s - loss: 0.0883 - accuracy: 0.9707INFO:tensorflow:Assets written to: model-009.model\\assets\n",
      "72/72 [==============================] - 191s 3s/step - loss: 0.0883 - accuracy: 0.9707 - val_loss: 0.2171 - val_accuracy: 0.9196\n",
      "Epoch 10/10\n",
      "72/72 [==============================] - ETA: 0s - loss: 0.0528 - accuracy: 0.9829INFO:tensorflow:Assets written to: model-010.model\\assets\n",
      "72/72 [==============================] - 197s 3s/step - loss: 0.0528 - accuracy: 0.9829 - val_loss: 0.2067 - val_accuracy: 0.9266\n"
     ]
    }
   ],
   "source": [
    "checkpoint = ModelCheckpoint('model-{epoch:03d}.model', monitor='val_loss', verbose=0,save_best_only=True,mode='auto')\n",
    "\n",
    "history=model.fit(train_data,train_target,epochs=10,callbacks=[checkpoint],validation_split=0.2)"
   ]
  },
  {
   "cell_type": "code",
   "execution_count": 10,
   "id": "f955ed5a",
   "metadata": {},
   "outputs": [],
   "source": [
    "import matplotlib.pyplot as plt"
   ]
  },
  {
   "cell_type": "code",
   "execution_count": 11,
   "id": "d1e72e7c",
   "metadata": {},
   "outputs": [
    {
     "data": {
      "image/png": "[encoded data removed]",
      "text/plain": [
       "<Figure size 432x288 with 1 Axes>"
      ]
     },
     "metadata": {
      "needs_background": "light"
     },
     "output_type": "display_data"
    },
    {
     "data": {
      "image/png": "[encoded data removed]",
      "text/plain": [
       "<Figure size 432x288 with 1 Axes>"
      ]
     },
     "metadata": {
      "needs_background": "light"
     },
     "output_type": "display_data"
    }
   ],
   "source": [
    "#plotting graphs for accuracy \n",
    "plt.figure(0)\n",
    "plt.plot(history.history['accuracy'], label='training accuracy')\n",
    "plt.plot(history.history['val_accuracy'], label='val accuracy')\n",
    "plt.title('Accuracy')\n",
    "plt.xlabel('epochs')\n",
    "plt.ylabel('accuracy')\n",
    "plt.legend()\n",
    "plt.show()\n",
    "\n",
    "plt.figure(1)\n",
    "plt.plot(history.history['loss'], label='training loss')\n",
    "plt.plot(history.history['val_loss'], label='val loss')\n",
    "plt.title('Loss')\n",
    "plt.xlabel('epochs')\n",
    "plt.ylabel('loss')\n",
    "plt.legend()\n",
    "plt.show()"
   ]
  },
  {
   "cell_type": "code",
   "execution_count": 12,
   "id": "1fc5b164",
   "metadata": {},
   "outputs": [
    {
     "name": "stdout",
     "output_type": "stream",
     "text": [
      "10/10 [==============================] - 6s 635ms/step - loss: 0.1610 - accuracy: 0.9434\n",
      "[0.16102935373783112, 0.9433962106704712]\n"
     ]
    }
   ],
   "source": [
    "print(model.evaluate(test_data,test_target))"
   ]
  }
 ],
 "metadata": {
  "kernelspec": {
   "display_name": "Python 3 (ipykernel)",
   "language": "python",
   "name": "python3"
  },
  "language_info": {
   "codemirror_mode": {
    "name": "ipython",
    "version": 3
   },
   "file_extension": ".py",
   "mimetype": "text/x-python",
   "name": "python",
   "nbconvert_exporter": "python",
   "pygments_lexer": "ipython3",
   "version": "3.9.7"
  }
 },
 "nbformat": 4,
 "nbformat_minor": 5
}
